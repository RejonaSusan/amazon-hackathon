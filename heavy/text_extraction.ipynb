{
 "cells": [
  {
   "cell_type": "code",
   "execution_count": 11,
   "metadata": {},
   "outputs": [],
   "source": [
    "import easyocr\n",
    "import requests\n",
    "import cv2\n",
    "import numpy as np\n",
    "import matplotlib.pyplot as plt\n",
    "import ssl\n",
    "from io import BytesIO\n",
    "from PIL import Image\n",
    "import re"
   ]
  },
  {
   "cell_type": "code",
   "execution_count": 12,
   "metadata": {},
   "outputs": [],
   "source": [
    "ssl._create_default_https_context = ssl._create_unverified_context"
   ]
  },
  {
   "cell_type": "code",
   "execution_count": 13,
   "metadata": {},
   "outputs": [
    {
     "name": "stderr",
     "output_type": "stream",
     "text": [
      "/Users/pranayobla/Desktop/Projects/amazon-hackathon/venv/lib/python3.11/site-packages/easyocr/detection.py:85: FutureWarning: You are using `torch.load` with `weights_only=False` (the current default value), which uses the default pickle module implicitly. It is possible to construct malicious pickle data which will execute arbitrary code during unpickling (See https://github.com/pytorch/pytorch/blob/main/SECURITY.md#untrusted-models for more details). In a future release, the default value for `weights_only` will be flipped to `True`. This limits the functions that could be executed during unpickling. Arbitrary objects will no longer be allowed to be loaded via this mode unless they are explicitly allowlisted by the user via `torch.serialization.add_safe_globals`. We recommend you start setting `weights_only=True` for any use case where you don't have full control of the loaded file. Please open an issue on GitHub for any issues related to this experimental feature.\n",
      "  net.load_state_dict(copyStateDict(torch.load(trained_model, map_location=device)))\n",
      "/Users/pranayobla/Desktop/Projects/amazon-hackathon/venv/lib/python3.11/site-packages/easyocr/recognition.py:182: FutureWarning: You are using `torch.load` with `weights_only=False` (the current default value), which uses the default pickle module implicitly. It is possible to construct malicious pickle data which will execute arbitrary code during unpickling (See https://github.com/pytorch/pytorch/blob/main/SECURITY.md#untrusted-models for more details). In a future release, the default value for `weights_only` will be flipped to `True`. This limits the functions that could be executed during unpickling. Arbitrary objects will no longer be allowed to be loaded via this mode unless they are explicitly allowlisted by the user via `torch.serialization.add_safe_globals`. We recommend you start setting `weights_only=True` for any use case where you don't have full control of the loaded file. Please open an issue on GitHub for any issues related to this experimental feature.\n",
      "  model.load_state_dict(torch.load(model_path, map_location=device))\n"
     ]
    }
   ],
   "source": [
    "reader = easyocr.Reader(['en'])"
   ]
  },
  {
   "cell_type": "code",
   "execution_count": 14,
   "metadata": {},
   "outputs": [],
   "source": [
    "def download_image(url):\n",
    "    response = requests.get(url)\n",
    "    if response.status_code == 200:\n",
    "        img_data = response.content\n",
    "        img = Image.open(BytesIO(img_data))\n",
    "        return img\n",
    "    else:\n",
    "        raise Exception(f\"Failed to download image. Status code: {response.status_code}\")"
   ]
  },
  {
   "cell_type": "code",
   "execution_count": 15,
   "metadata": {},
   "outputs": [],
   "source": [
    "def extract_text_from_url(image_url):\n",
    "    img = download_image(image_url)\n",
    "    img_cv = cv2.cvtColor(np.array(img), cv2.COLOR_RGB2BGR)\n",
    "    img_path = 'temp_image.jpg'\n",
    "    img.save(img_path)\n",
    "    result = reader.readtext(img_path)\n",
    "    text_array = [text for (_, text, confidence) in result if confidence >= 0.5]\n",
    "    lowercase_text_array = [text.lower() for text in text_array]\n",
    "    return lowercase_text_array"
   ]
  },
  {
   "cell_type": "code",
   "execution_count": 16,
   "metadata": {},
   "outputs": [
    {
     "data": {
      "text/plain": [
       "['horbaach',\n",
       " 'directions:  for adults, take two (2) vegan capsules',\n",
       " 'daily, preferably with a meal. do not exceed stated dose',\n",
       " 'nutrition information',\n",
       " 'high',\n",
       " 'typically per daily dose',\n",
       " 'psyllium husk powder',\n",
       " '1400mg',\n",
       " 'psyllium ',\n",
       " 'ingredients: psyllium husk powder , capsule shell',\n",
       " 'droxypropylmethylcellulose) , anti-caking agents (mag-',\n",
       " 'nesium salts of fatty acids, silicon dioxide):',\n",
       " 'may contain sesame seeds & mustard: for allergens,',\n",
       " 'husk',\n",
       " 'see the ingredients in bold:',\n",
       " 'notice: take this product with 22oml of fluids taking',\n",
       " 'this product without adequate fluid may cause the pos -',\n",
       " 'plantago ovata',\n",
       " 'sibility of choking: do not use this product if you have',\n",
       " '140omg',\n",
       " 'difficulty swallowing: if you experience chest pain, vom-',\n",
       " 'plant seeds',\n",
       " 'iting or difficulty in swallowing or breathing after taking',\n",
       " 'this product; seek immediate medical attention. do not',\n",
       " 'take before sleeping: fibre products can affect the ab-',\n",
       " 'sorption of many medications. do not take this product',\n",
       " 'within 1.5 hours of taking medication.',\n",
       " 'free from: artificial colour , artificial flavour, artificial',\n",
       " 'sweetener, preservatives:',\n",
       " 'food',\n",
       " 'vegan',\n",
       " 'supplement',\n",
       " '365',\n",
       " 'capsules',\n",
       " 'suitable for vegetarians & vegans',\n",
       " 'hu16790 €',\n",
       " '(hy-']"
      ]
     },
     "execution_count": 16,
     "metadata": {},
     "output_type": "execute_result"
    }
   ],
   "source": [
    "image_url = 'https://m.media-amazon.com/images/I/81xsq6vf2qL.jpg'\n",
    "text = extract_text_from_url(image_url)\n",
    "text"
   ]
  },
  {
   "cell_type": "code",
   "execution_count": 17,
   "metadata": {},
   "outputs": [],
   "source": [
    "def contains_number(s):\n",
    "    return bool(re.search(r'\\d', s))"
   ]
  },
  {
   "cell_type": "code",
   "execution_count": 18,
   "metadata": {},
   "outputs": [],
   "source": [
    "def remove_special_characters(s):\n",
    "    return re.sub(r'[^a-zA-Z0-9\\s]', '', s)"
   ]
  },
  {
   "cell_type": "code",
   "execution_count": 19,
   "metadata": {},
   "outputs": [
    {
     "data": {
      "text/plain": [
       "['directions  for adults take two 2 vegan capsules',\n",
       " '1400mg',\n",
       " 'notice take this product with 22oml of fluids taking',\n",
       " '140omg',\n",
       " 'within 15 hours of taking medication',\n",
       " '365',\n",
       " 'hu16790 ']"
      ]
     },
     "execution_count": 19,
     "metadata": {},
     "output_type": "execute_result"
    }
   ],
   "source": [
    "processed_text_array = [remove_special_characters(t) for t in text if contains_number(t)]\n",
    "processed_text_array"
   ]
  }
 ],
 "metadata": {
  "kernelspec": {
   "display_name": "venv",
   "language": "python",
   "name": "python3"
  },
  "language_info": {
   "codemirror_mode": {
    "name": "ipython",
    "version": 3
   },
   "file_extension": ".py",
   "mimetype": "text/x-python",
   "name": "python",
   "nbconvert_exporter": "python",
   "pygments_lexer": "ipython3",
   "version": "3.11.1"
  }
 },
 "nbformat": 4,
 "nbformat_minor": 2
}
